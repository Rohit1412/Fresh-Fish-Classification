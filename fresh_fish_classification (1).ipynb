{
  "nbformat": 4,
  "nbformat_minor": 0,
  "metadata": {
    "colab": {
      "provenance": [],
      "gpuType": "T4"
    },
    "kernelspec": {
      "name": "python3",
      "display_name": "Python 3"
    },
    "language_info": {
      "name": "python"
    },
    "accelerator": "GPU"
  },
  "cells": [
    {
      "cell_type": "markdown",
      "source": [
        "# Fresh Fish Classification Project\n",
        "## Introduction\n",
        "This notebook presents a machine learning project aimed at classifying fish species from images. We utilize convolutional neural networks (CNNs) to accurately identify different species, aiming to assist in sustainable fishing practices and environmental conservation.\n"
      ],
      "metadata": {
        "id": "pAaPsD--EWFh"
      }
    },
    {
      "cell_type": "code",
      "source": [
        "import numpy as np\n",
        "import pandas as pd#to manupilate labelled data\n",
        "import os#path from the system\n",
        "import matplotlib.pyplot as plt #plot graph\n",
        "import tensorflow as tf #depolyment,training\n",
        "\n",
        "from tensorflow.keras.utils import to_categorical #neural computation\n",
        "from tensorflow.keras.preprocessing.image import load_img, img_to_array\n",
        "from tensorflow.keras.preprocessing.image import ImageDataGenerator\n",
        "\n",
        "from sklearn.metrics import classification_report, log_loss, accuracy_score #identifing ,classifing data based on patterns\n",
        "from sklearn.model_selection import train_test_split"
      ],
      "metadata": {
        "id": "nVLeZCgN3izh"
      },
      "execution_count": null,
      "outputs": []
    },
    {
      "cell_type": "code",
      "source": [
        "from google.colab import drive\n",
        "drive.mount('/content/drive')"
      ],
      "metadata": {
        "colab": {
          "base_uri": "https://localhost:8080/"
        },
        "id": "7El2GK41p1uJ",
        "outputId": "6afea51f-9d44-44ba-e4cf-b3eca84cd51d"
      },
      "execution_count": null,
      "outputs": [
        {
          "output_type": "stream",
          "name": "stdout",
          "text": [
            "Mounted at /content/drive\n"
          ]
        }
      ]
    },
    {
      "cell_type": "code",
      "source": [
        "directory = '/content/drive/MyDrive/fresh and non-fresh fish'"
      ],
      "metadata": {
        "id": "-GI7fWma3i4S"
      },
      "execution_count": null,
      "outputs": []
    },
    {
      "cell_type": "markdown",
      "source": [
        "## Dataset Description\n",
        "The dataset used in this project consists of images of several fish species, annotated with their respective labels. This section should provide details about the dataset's source, structure, and any preprocessing steps applied."
      ],
      "metadata": {
        "id": "6VEwCtUAEp7Q"
      }
    },
    {
      "cell_type": "code",
      "source": [
        "Name=[]\n",
        "for file in os.listdir(directory):\n",
        "    Name+=[file]\n",
        "print(Name)\n",
        "print(len(Name))"
      ],
      "metadata": {
        "colab": {
          "base_uri": "https://localhost:8080/"
        },
        "id": "lLi6fTMk3i7g",
        "outputId": "973225c3-29f7-4d3d-b265-af662d12936b"
      },
      "execution_count": null,
      "outputs": [
        {
          "output_type": "stream",
          "name": "stdout",
          "text": [
            "['fresh', 'non-fresh']\n",
            "2\n"
          ]
        }
      ]
    },
    {
      "cell_type": "code",
      "source": [
        "N=[]\n",
        "for i in range(len(Name)):\n",
        "    N+=[i]\n",
        "print(N)\n",
        "\n",
        "normal_mapping=dict(zip(Name,N))\n",
        "reverse_mapping=dict(zip(N,Name))\n",
        "\n",
        "def mapper(value):\n",
        "    return reverse_mapping[value]"
      ],
      "metadata": {
        "id": "ut5dMwrT3i-c",
        "colab": {
          "base_uri": "https://localhost:8080/"
        },
        "outputId": "2da7864b-aba4-4955-b91b-22504613f9da"
      },
      "execution_count": null,
      "outputs": [
        {
          "output_type": "stream",
          "name": "stdout",
          "text": [
            "[0, 1]\n"
          ]
        }
      ]
    },
    {
      "cell_type": "markdown",
      "source": [
        "## Data Preprocessing\n",
        "This section outlines the steps taken to prepare the data for model training, including image resizing, normalization, augmentation techniques used, and splitting the dataset into training, validation, and test sets.\n"
      ],
      "metadata": {
        "id": "0rofFbv9Ey6A"
      }
    },
    {
      "cell_type": "code",
      "source": [
        "File=[]\n",
        "for file in os.listdir(directory):\n",
        "    File+=[file]\n",
        "    print(file)"
      ],
      "metadata": {
        "colab": {
          "base_uri": "https://localhost:8080/"
        },
        "id": "bI2pz0Vq3jEC",
        "outputId": "07c18d9c-b3a4-4871-da3c-0d6133e2b469"
      },
      "execution_count": null,
      "outputs": [
        {
          "output_type": "stream",
          "name": "stdout",
          "text": [
            "fresh\n",
            "non-fresh\n"
          ]
        }
      ]
    },
    {
      "cell_type": "code",
      "source": [
        "trainx0=[]\n",
        "testx0=[]\n",
        "trainy0=[]\n",
        "testy0=[]\n",
        "count=0\n",
        "for file in File:\n",
        "    path=os.path.join(directory,file)\n",
        "    t=0\n",
        "    for im in os.listdir(path):\n",
        "        image=load_img(os.path.join(path,im), grayscale=False, color_mode='rgb', target_size=(50,50))\n",
        "        image=img_to_array(image)\n",
        "        image=image/255.0\n",
        "        n=len(os.listdir(path))#n=no of images\n",
        "        if t<(n//10)*8:\n",
        "            trainx0.append(image)\n",
        "            trainy0.append(count)\n",
        "        else:\n",
        "            testx0.append(image)\n",
        "            testy0.append(count)\n",
        "        t+=1\n",
        "    count=count+1"
      ],
      "metadata": {
        "id": "FlXS39W_3zIB"
      },
      "execution_count": null,
      "outputs": []
    },
    {
      "cell_type": "code",
      "source": [
        "trainy2=to_categorical(trainy0)#converts integer to binary\n",
        "X_train=np.array(trainx0).reshape(-1,50,50,3)\n",
        "y_train=np.array(trainy2)"
      ],
      "metadata": {
        "id": "QcCHVCrY33Hk"
      },
      "execution_count": null,
      "outputs": []
    },
    {
      "cell_type": "code",
      "source": [
        "X_test=np.array(testx0).reshape(-1,50,50,3)"
      ],
      "metadata": {
        "id": "LlQYurouMDEk"
      },
      "execution_count": null,
      "outputs": []
    },
    {
      "cell_type": "code",
      "source": [
        "trainx,testx,trainy,testy=train_test_split(X_train,y_train,test_size=0.2,random_state=44)#get training and test sets"
      ],
      "metadata": {
        "id": "PyfY0ZdTniQ1"
      },
      "execution_count": null,
      "outputs": []
    },
    {
      "cell_type": "code",
      "source": [
        "print(trainx.shape)\n",
        "print(testx.shape)\n",
        "print(trainy.shape)\n",
        "print(testy.shape)"
      ],
      "metadata": {
        "colab": {
          "base_uri": "https://localhost:8080/"
        },
        "id": "wNyIlqEjnkID",
        "outputId": "7fa73f6d-fe74-470a-967f-4c0e595bc5c3"
      },
      "execution_count": null,
      "outputs": [
        {
          "output_type": "stream",
          "name": "stdout",
          "text": [
            "(89, 50, 50, 3)\n",
            "(23, 50, 50, 3)\n",
            "(89, 2)\n",
            "(23, 2)\n"
          ]
        }
      ]
    },
    {
      "cell_type": "markdown",
      "source": [
        "## Model Architecture\n",
        "Here we describe the CNN architecture used for fish species classification. This might include the number of layers, types of layers (convolutional, pooling, dense), and any regularization techniques employed."
      ],
      "metadata": {
        "id": "aCnr2kdUE3Fw"
      }
    },
    {
      "cell_type": "code",
      "source": [
        "datagen = ImageDataGenerator(horizontal_flip=True,vertical_flip=True,rotation_range=20,zoom_range=0.2,\n",
        "                        width_shift_range=0.2,height_shift_range=0.2,shear_range=0.1,fill_mode=\"nearest\")"
      ],
      "metadata": {
        "id": "Co-bolx_nmLP"
      },
      "execution_count": null,
      "outputs": []
    },
    {
      "cell_type": "code",
      "source": [
        "pretrained_model3 = tf.keras.applications.DenseNet201(input_shape=(50,50,3),include_top=False,weights='imagenet',pooling='avg')\n",
        "pretrained_model3.trainable = False"
      ],
      "metadata": {
        "id": "1QWeh3awnor0",
        "colab": {
          "base_uri": "https://localhost:8080/"
        },
        "outputId": "57aa6745-075c-4950-c0b7-1172c9966977"
      },
      "execution_count": null,
      "outputs": [
        {
          "output_type": "stream",
          "name": "stdout",
          "text": [
            "Downloading data from https://storage.googleapis.com/tensorflow/keras-applications/densenet/densenet201_weights_tf_dim_ordering_tf_kernels_notop.h5\n",
            "74836368/74836368 [==============================] - 0s 0us/step\n"
          ]
        }
      ]
    },
    {
      "cell_type": "code",
      "source": [
        "inputs3 = pretrained_model3.input\n",
        "x3 = tf.keras.layers.Dense(128, activation='relu')(pretrained_model3.output)\n",
        "outputs3 = tf.keras.layers.Dense(2, activation='softmax')(x3)\n",
        "model = tf.keras.Model(inputs=inputs3, outputs=outputs3)"
      ],
      "metadata": {
        "id": "YFSExgRFnqVx"
      },
      "execution_count": null,
      "outputs": []
    },
    {
      "cell_type": "code",
      "source": [
        "model.compile(optimizer='adam',loss='categorical_crossentropy',metrics=['accuracy'])"
      ],
      "metadata": {
        "id": "yzVYbkB4nsHB"
      },
      "execution_count": null,
      "outputs": []
    },
    {
      "cell_type": "markdown",
      "source": [
        "## Training Process\n",
        "Details about the training process are provided in this section, including the choice of optimizer, loss function, batch size, number of epochs, and any callbacks used during training.\n"
      ],
      "metadata": {
        "id": "P6iXl2oVE9cA"
      }
    },
    {
      "cell_type": "code",
      "source": [
        "try:\n",
        "    his=model.fit(datagen.flow(trainx,trainy,batch_size=32),validation_data=(testx,testy),epochs=30)\n",
        "except:\n",
        "    print('not found')"
      ],
      "metadata": {
        "colab": {
          "base_uri": "https://localhost:8080/"
        },
        "id": "uSef72scnuVh",
        "outputId": "fb8a3068-35e8-47b1-a430-99f2c7a88086"
      },
      "execution_count": null,
      "outputs": [
        {
          "output_type": "stream",
          "name": "stdout",
          "text": [
            "Epoch 1/30\n",
            "3/3 [==============================] - 25s 5s/step - loss: 0.6433 - accuracy: 0.6629 - val_loss: 0.4478 - val_accuracy: 0.6957\n",
            "Epoch 2/30\n",
            "3/3 [==============================] - 0s 63ms/step - loss: 0.3139 - accuracy: 0.8764 - val_loss: 0.3465 - val_accuracy: 0.7826\n",
            "Epoch 3/30\n",
            "3/3 [==============================] - 0s 69ms/step - loss: 0.2457 - accuracy: 0.9326 - val_loss: 0.3055 - val_accuracy: 0.9565\n",
            "Epoch 4/30\n",
            "3/3 [==============================] - 0s 62ms/step - loss: 0.2760 - accuracy: 0.8989 - val_loss: 0.2464 - val_accuracy: 0.9565\n",
            "Epoch 5/30\n",
            "3/3 [==============================] - 0s 63ms/step - loss: 0.2022 - accuracy: 0.9213 - val_loss: 0.2044 - val_accuracy: 0.9565\n",
            "Epoch 6/30\n",
            "3/3 [==============================] - 0s 60ms/step - loss: 0.1912 - accuracy: 0.9326 - val_loss: 0.1786 - val_accuracy: 1.0000\n",
            "Epoch 7/30\n",
            "3/3 [==============================] - 0s 63ms/step - loss: 0.1430 - accuracy: 0.9438 - val_loss: 0.1606 - val_accuracy: 1.0000\n",
            "Epoch 8/30\n",
            "3/3 [==============================] - 0s 59ms/step - loss: 0.1036 - accuracy: 1.0000 - val_loss: 0.1388 - val_accuracy: 1.0000\n",
            "Epoch 9/30\n",
            "3/3 [==============================] - 0s 86ms/step - loss: 0.1029 - accuracy: 0.9775 - val_loss: 0.1240 - val_accuracy: 1.0000\n",
            "Epoch 10/30\n",
            "3/3 [==============================] - 0s 66ms/step - loss: 0.1465 - accuracy: 0.9551 - val_loss: 0.1103 - val_accuracy: 0.9565\n",
            "Epoch 11/30\n",
            "3/3 [==============================] - 0s 91ms/step - loss: 0.0974 - accuracy: 0.9888 - val_loss: 0.0984 - val_accuracy: 0.9565\n",
            "Epoch 12/30\n",
            "3/3 [==============================] - 0s 87ms/step - loss: 0.0909 - accuracy: 0.9663 - val_loss: 0.0871 - val_accuracy: 1.0000\n",
            "Epoch 13/30\n",
            "3/3 [==============================] - 0s 85ms/step - loss: 0.0583 - accuracy: 1.0000 - val_loss: 0.1113 - val_accuracy: 0.9565\n",
            "Epoch 14/30\n",
            "3/3 [==============================] - 0s 87ms/step - loss: 0.0608 - accuracy: 1.0000 - val_loss: 0.1377 - val_accuracy: 0.9130\n",
            "Epoch 15/30\n",
            "3/3 [==============================] - 0s 93ms/step - loss: 0.1064 - accuracy: 0.9551 - val_loss: 0.1049 - val_accuracy: 0.9130\n",
            "Epoch 16/30\n",
            "3/3 [==============================] - 0s 90ms/step - loss: 0.0848 - accuracy: 0.9663 - val_loss: 0.0740 - val_accuracy: 1.0000\n",
            "Epoch 17/30\n",
            "3/3 [==============================] - 0s 87ms/step - loss: 0.0402 - accuracy: 1.0000 - val_loss: 0.0571 - val_accuracy: 1.0000\n",
            "Epoch 18/30\n",
            "3/3 [==============================] - 0s 69ms/step - loss: 0.0977 - accuracy: 0.9663 - val_loss: 0.0679 - val_accuracy: 1.0000\n",
            "Epoch 19/30\n",
            "3/3 [==============================] - 0s 88ms/step - loss: 0.0913 - accuracy: 0.9551 - val_loss: 0.0867 - val_accuracy: 0.9565\n",
            "Epoch 20/30\n",
            "3/3 [==============================] - 0s 85ms/step - loss: 0.0437 - accuracy: 1.0000 - val_loss: 0.0786 - val_accuracy: 0.9565\n",
            "Epoch 21/30\n",
            "3/3 [==============================] - 0s 84ms/step - loss: 0.0541 - accuracy: 0.9888 - val_loss: 0.0519 - val_accuracy: 1.0000\n",
            "Epoch 22/30\n",
            "3/3 [==============================] - 0s 72ms/step - loss: 0.0363 - accuracy: 1.0000 - val_loss: 0.0384 - val_accuracy: 1.0000\n",
            "Epoch 23/30\n",
            "3/3 [==============================] - 0s 88ms/step - loss: 0.0283 - accuracy: 1.0000 - val_loss: 0.0317 - val_accuracy: 1.0000\n",
            "Epoch 24/30\n",
            "3/3 [==============================] - 0s 77ms/step - loss: 0.0713 - accuracy: 0.9775 - val_loss: 0.0289 - val_accuracy: 1.0000\n",
            "Epoch 25/30\n",
            "3/3 [==============================] - 0s 72ms/step - loss: 0.0747 - accuracy: 0.9551 - val_loss: 0.0325 - val_accuracy: 1.0000\n",
            "Epoch 26/30\n",
            "3/3 [==============================] - 0s 77ms/step - loss: 0.0687 - accuracy: 0.9775 - val_loss: 0.0356 - val_accuracy: 1.0000\n",
            "Epoch 27/30\n",
            "3/3 [==============================] - 0s 89ms/step - loss: 0.0234 - accuracy: 1.0000 - val_loss: 0.0466 - val_accuracy: 1.0000\n",
            "Epoch 28/30\n",
            "3/3 [==============================] - 0s 113ms/step - loss: 0.0196 - accuracy: 1.0000 - val_loss: 0.0541 - val_accuracy: 1.0000\n",
            "Epoch 29/30\n",
            "3/3 [==============================] - 0s 108ms/step - loss: 0.0220 - accuracy: 1.0000 - val_loss: 0.0589 - val_accuracy: 0.9565\n",
            "Epoch 30/30\n",
            "3/3 [==============================] - 0s 106ms/step - loss: 0.0392 - accuracy: 0.9888 - val_loss: 0.0522 - val_accuracy: 1.0000\n"
          ]
        }
      ]
    },
    {
      "cell_type": "markdown",
      "source": [
        "## Evaluation and Results\n",
        "This section presents the results of the model evaluation on the test set. It includes metrics such as accuracy, precision, recall, and F1-score, along with visualizations like confusion matrices or example predictions."
      ],
      "metadata": {
        "id": "r57YHvXaFKaH"
      }
    },
    {
      "cell_type": "code",
      "source": [
        "try:\n",
        "    y_pred=model.predict(testx)\n",
        "    pred=np.argmax(y_pred,axis=1)\n",
        "    ground = np.argmax(testy,axis=1)\n",
        "    print(classification_report(ground,pred))\n",
        "except:\n",
        "    print('not found')"
      ],
      "metadata": {
        "colab": {
          "base_uri": "https://localhost:8080/"
        },
        "id": "5t7haHE6o8KP",
        "outputId": "deb5153f-201f-4275-b8fa-d7424b52d4ff"
      },
      "execution_count": null,
      "outputs": [
        {
          "output_type": "stream",
          "name": "stdout",
          "text": [
            "1/1 [==============================] - 3s 3s/step\n",
            "              precision    recall  f1-score   support\n",
            "\n",
            "           0       1.00      1.00      1.00        12\n",
            "           1       1.00      1.00      1.00        11\n",
            "\n",
            "    accuracy                           1.00        23\n",
            "   macro avg       1.00      1.00      1.00        23\n",
            "weighted avg       1.00      1.00      1.00        23\n",
            "\n"
          ]
        }
      ]
    },
    {
      "cell_type": "code",
      "source": [
        "get_acc = his.history['accuracy']\n",
        "value_acc = his.history['val_accuracy']\n",
        "get_loss = his.history['loss']\n",
        "validation_loss = his.history['val_loss']\n",
        "\n",
        "epochs = range(len(get_acc))\n",
        "plt.plot(epochs, get_acc, 'r', label='Accuracy of Training data')\n",
        "plt.plot(epochs, value_acc, 'b', label='Accuracy of Validation data')\n",
        "plt.title('Training vs validation accuracy')\n",
        "plt.legend(loc=0)\n",
        "plt.figure()\n",
        "plt.show()"
      ],
      "metadata": {
        "colab": {
          "base_uri": "https://localhost:8080/",
          "height": 469
        },
        "id": "vCL3oPRipPsv",
        "outputId": "eff5f2e0-f00b-47ed-fa3a-85050a5f09d4"
      },
      "execution_count": null,
      "outputs": [
        {
          "output_type": "display_data",
          "data": {
            "text/plain": [
              "<Figure size 640x480 with 1 Axes>"
            ],
            "image/png": "[encoded data removed]"
          },
          "metadata": {}
        },
        {
          "output_type": "display_data",
          "data": {
            "text/plain": [
              "<Figure size 640x480 with 0 Axes>"
            ]
          },
          "metadata": {}
        }
      ]
    },
    {
      "cell_type": "code",
      "source": [
        "epochs = range(len(get_loss))\n",
        "plt.plot(epochs, get_loss, 'r', label='Loss of Training data')\n",
        "plt.plot(epochs, validation_loss, 'b', label='Loss of Validation data')\n",
        "plt.title('Training vs validation loss')\n",
        "plt.legend(loc=0)\n",
        "plt.figure()\n",
        "plt.show()"
      ],
      "metadata": {
        "colab": {
          "base_uri": "https://localhost:8080/",
          "height": 469
        },
        "id": "Mo_qRukBpgbI",
        "outputId": "6f83bc44-d1b2-4711-987f-3e257137b55b"
      },
      "execution_count": null,
      "outputs": [
        {
          "output_type": "display_data",
          "data": {
            "text/plain": [
              "<Figure size 640x480 with 1 Axes>"
            ],
            "image/png": "[encoded data removed]"
          },
          "metadata": {}
        },
        {
          "output_type": "display_data",
          "data": {
            "text/plain": [
              "<Figure size 640x480 with 0 Axes>"
            ]
          },
          "metadata": {}
        }
      ]
    },
    {
      "cell_type": "code",
      "source": [
        "path0=\"/content/drive/MyDrive/fresh and non-fresh fish/non-fresh/IstavritBayat (29).jpg\"\n",
        "load_img(path0,target_size=(300,300))\n",
        "type(path0)"
      ],
      "metadata": {
        "colab": {
          "base_uri": "https://localhost:8080/"
        },
        "id": "U9DtFzsFpjcR",
        "outputId": "1ef083d3-9358-4dba-b566-f8452d85b3b5"
      },
      "execution_count": null,
      "outputs": [
        {
          "output_type": "execute_result",
          "data": {
            "text/plain": [
              "str"
            ]
          },
          "metadata": {},
          "execution_count": 20
        }
      ]
    },
    {
      "cell_type": "code",
      "source": [
        "\n",
        "\n",
        "image=load_img(path0,target_size=(50,50))\n",
        "print(type(image))\n",
        "image=img_to_array(image)\n",
        "image=image/255.0\n",
        "prediction_image=np.array(image)\n",
        "prediction_image= np.expand_dims(image, axis=0)"
      ],
      "metadata": {
        "id": "FY-OeUSbpmDg",
        "colab": {
          "base_uri": "https://localhost:8080/"
        },
        "outputId": "8f944aad-16ae-441e-ab6a-b92057fc15bb"
      },
      "execution_count": null,
      "outputs": [
        {
          "output_type": "stream",
          "name": "stdout",
          "text": [
            "<class 'PIL.Image.Image'>\n"
          ]
        }
      ]
    },
    {
      "cell_type": "code",
      "source": [
        "\n",
        "prediction=model.predict(prediction_image)\n",
        "value=np.argmax(prediction)\n",
        "move_name=mapper(value)\n",
        "print(format(move_name))"
      ],
      "metadata": {
        "colab": {
          "base_uri": "https://localhost:8080/"
        },
        "id": "pX-xvM2Mpp2X",
        "outputId": "76a687a9-b83e-447a-900c-1e73b7cc2d04"
      },
      "execution_count": null,
      "outputs": [
        {
          "output_type": "stream",
          "name": "stdout",
          "text": [
            "1/1 [==============================] - 2s 2s/step\n",
            "non-fresh\n"
          ]
        }
      ]
    },
    {
      "cell_type": "code",
      "source": [
        "pred2=model.predict(X_test)\n",
        "print(pred2[0:10])\n",
        "\n",
        "PRED=[]\n",
        "for item in pred2:\n",
        "    value2=np.argmax(item)\n",
        "    PRED+=[value2]\n",
        "print(PRED[0:10])"
      ],
      "metadata": {
        "colab": {
          "base_uri": "https://localhost:8080/"
        },
        "id": "fu57lJ0LqXI0",
        "outputId": "bc38523c-7968-47a8-83b1-d3b73789b716"
      },
      "execution_count": null,
      "outputs": [
        {
          "output_type": "stream",
          "name": "stdout",
          "text": [
            "2/2 [==============================] - 2s 2s/step\n",
            "[[9.9622464e-01 3.7753326e-03]\n",
            " [9.9710935e-01 2.8906253e-03]\n",
            " [9.8789704e-01 1.2102986e-02]\n",
            " [9.9907374e-01 9.2620164e-04]\n",
            " [9.9832803e-01 1.6719692e-03]\n",
            " [9.9811673e-01 1.8833366e-03]\n",
            " [9.9966812e-01 3.3184286e-04]\n",
            " [9.9604225e-01 3.9577335e-03]\n",
            " [9.9857545e-01 1.4245523e-03]\n",
            " [9.9860901e-01 1.3910559e-03]]\n",
            "[0, 0, 0, 0, 0, 0, 0, 0, 0, 0]\n"
          ]
        }
      ]
    },
    {
      "cell_type": "code",
      "source": [
        "ANS=testy0\n",
        "ANS[0:10]"
      ],
      "metadata": {
        "id": "bLTpHZToqaD_",
        "colab": {
          "base_uri": "https://localhost:8080/"
        },
        "outputId": "04a10190-90be-4bda-aaa4-0c31c480a2dd"
      },
      "execution_count": null,
      "outputs": [
        {
          "output_type": "execute_result",
          "data": {
            "text/plain": [
              "[0, 0, 0, 0, 0, 0, 0, 0, 0, 0]"
            ]
          },
          "metadata": {},
          "execution_count": 24
        }
      ]
    },
    {
      "cell_type": "code",
      "source": [
        "accuracy=accuracy_score(ANS,PRED)\n",
        "print(accuracy)"
      ],
      "metadata": {
        "id": "R1RyQENGqcaS",
        "colab": {
          "base_uri": "https://localhost:8080/"
        },
        "outputId": "e978021f-f909-4a08-abb1-ea4b8e5a2f4f"
      },
      "execution_count": null,
      "outputs": [
        {
          "output_type": "stream",
          "name": "stdout",
          "text": [
            "0.95\n"
          ]
        }
      ]
    },
    {
      "cell_type": "code",
      "source": [
        "from keras.preprocessing.image import load_img, img_to_array\n",
        "import numpy as np\n",
        "from PIL import Image\n",
        "from sklearn.metrics import accuracy_score\n",
        "import gradio as gr\n",
        "\n",
        "def predict_fish(image):\n",
        "    if isinstance(image, np.ndarray):\n",
        "        image = Image.fromarray(image)\n",
        "\n",
        "    image_resized = image.resize((300, 300))\n",
        "    image_resized_small = image.resize((50, 50))\n",
        "\n",
        "    image_array = img_to_array(image_resized_small)\n",
        "    image_array = image_array / 255.0\n",
        "    prediction_image = np.array(image_array)\n",
        "    prediction_image = np.expand_dims(image_array, axis=0)\n",
        "\n",
        "    prediction = model.predict(prediction_image)\n",
        "    predicted_class_index = np.argmax(prediction)\n",
        "    move_name = mapper(predicted_class_index)\n",
        "\n",
        "    pred2 = model.predict(X_test)\n",
        "    PRED = [np.argmax(item) for item in pred2]\n",
        "\n",
        "    accuracy = accuracy_score(testy0, PRED)\n",
        "\n",
        "    return move_name, accuracy\n",
        "\n",
        "iface = gr.Interface(fn=predict_fish,\n",
        "                     inputs=gr.Image(type=\"numpy\"),\n",
        "                     outputs=[\"text\", \"text\"],\n",
        "                     title=\"Fish Classification\",\n",
        "                     description=\"Upload an image of fish to classify it and calculate accuracy.\")\n",
        "\n",
        "iface.launch(debug=True)\n"
      ],
      "metadata": {
        "colab": {
          "base_uri": "https://localhost:8080/",
          "height": 730
        },
        "id": "GRUlBfOp1uJ7",
        "outputId": "418253b1-258e-4788-814d-d929005b3f90"
      },
      "execution_count": null,
      "outputs": [
        {
          "output_type": "stream",
          "name": "stdout",
          "text": [
            "Setting queue=True in a Colab notebook requires sharing enabled. Setting `share=True` (you can turn this off by setting `share=False` in `launch()` explicitly).\n",
            "\n",
            "Colab notebook detected. This cell will run indefinitely so that you can see errors and logs. To turn off, set debug=False in launch().\n",
            "Running on public URL: https://49397fd8438e689839.gradio.live\n",
            "\n",
            "This share link expires in 72 hours. For free permanent hosting and GPU upgrades, run `gradio deploy` from Terminal to deploy to Spaces (https://huggingface.co/spaces)\n"
          ]
        },
        {
          "output_type": "display_data",
          "data": {
            "text/plain": [
              "<IPython.core.display.HTML object>"
            ],
            "text/html": [
              "<div><iframe src=\"https://49397fd8438e689839.gradio.live\" width=\"100%\" height=\"500\" allow=\"autoplay; camera; microphone; clipboard-read; clipboard-write;\" frameborder=\"0\" allowfullscreen></iframe></div>"
            ]
          },
          "metadata": {}
        },
        {
          "output_type": "stream",
          "name": "stdout",
          "text": [
            "1/1 [==============================] - 0s 36ms/step\n",
            "2/2 [==============================] - 0s 33ms/step\n",
            "1/1 [==============================] - 0s 40ms/step\n",
            "2/2 [==============================] - 0s 31ms/step\n",
            "1/1 [==============================] - 0s 37ms/step\n",
            "2/2 [==============================] - 0s 31ms/step\n"
          ]
        }
      ]
    },
    {
      "cell_type": "code",
      "source": [],
      "metadata": {
        "id": "EDDj3CPCkAy-"
      },
      "execution_count": null,
      "outputs": []
    }
  ]
}